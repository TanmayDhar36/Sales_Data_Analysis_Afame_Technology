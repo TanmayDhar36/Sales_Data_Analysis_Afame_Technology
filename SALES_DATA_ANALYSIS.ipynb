{
  "cells": [
    {
      "cell_type": "markdown",
      "source": [
        "# **Project Name**    -  **SALES DATA ANALYSIS**"
      ],
      "metadata": {
        "id": "KqLCIIIBzj8V"
      }
    },
    {
      "cell_type": "markdown",
      "source": [
        "**Project Type** - DATA ANALYSIS\n",
        "\n",
        "**Author** - TANMAY DHAR"
      ],
      "metadata": {
        "id": "RzhzxP9o0ABd"
      }
    },
    {
      "cell_type": "markdown",
      "source": [
        "# **Project Summary**"
      ],
      "metadata": {
        "id": "nW66RX8U0Oil"
      }
    },
    {
      "cell_type": "markdown",
      "source": [
        "The sales data analysis project aims to extract valuable insights from a comprehensive dataset to facilitate data-driven decision-making in business. The primary goals include understanding total sales, identifying sales trends over time, determining best-selling products, and creating visualizations to present the findings effectively."
      ],
      "metadata": {
        "id": "vka8z3FE0qEW"
      }
    },
    {
      "cell_type": "markdown",
      "source": [
        "# **Problem Statement**"
      ],
      "metadata": {
        "id": "tONWSgwm0vLu"
      }
    },
    {
      "cell_type": "markdown",
      "source": [
        "Many businesses struggle to make informed decisions due to a lack of understanding of their sales data. Without proper analysis, they face challenges in identifying sales trends, optimizing product offerings, and maximizing revenue potential. The problem is compounded by the complexity of handling large datasets efficiently.\n",
        "\n",
        "Therefore, there is a need to develop a streamlined approach to sales data analysis that allows businesses to extract valuable insights, improve decision-making, and ultimately enhance sales performance. This involves overcoming obstacles such as data complexity, limited resources, and the need for actionable recommendations."
      ],
      "metadata": {
        "id": "lohxr2yX0_dw"
      }
    },
    {
      "cell_type": "markdown",
      "source": [
        "#### **Define Your Business Objectives**"
      ],
      "metadata": {
        "id": "jNm-bdnR1CYq"
      }
    },
    {
      "cell_type": "markdown",
      "source": [
        "1. Gain actionable insights from sales data.\n",
        "2. Improve decision-making processes.\n",
        "3. Identify sales trends and opportunities.\n",
        "4. Optimize product offerings and pricing strategies.\n",
        "5. Maximize revenue potential.\n",
        "6. Enhance sales performance.\n",
        "\n"
      ],
      "metadata": {
        "id": "geQFT8fd1Kex"
      }
    },
    {
      "cell_type": "markdown",
      "source": [
        "# **GOAL**"
      ],
      "metadata": {
        "id": "EwwULBheZ1u2"
      }
    },
    {
      "cell_type": "markdown",
      "source": [
        "Use sales data analysis to find patterns, best-selling items, and revenue indicators to help in business decision-\n",
        "making.\n",
        "\n",
        "This project will require you to delve into a sizable sales dataset in order to glean insightful information. In order\n",
        "to successfully convey your findings, you will compute revenue measures like\n",
        "1. total sales,\n",
        "2. analyze sales trends over time,\n",
        "3. determine the best-selling products, and build visualizations.\n",
        "This assignment demonstrates your capacity to work with and extract knowledge from huge datasets,\n",
        "empowering you to provide data-driven suggestions for improving sales tactics."
      ],
      "metadata": {
        "id": "onFDo-OHZ8xg"
      }
    },
    {
      "cell_type": "markdown",
      "source": [
        "# **Data Collection**"
      ],
      "metadata": {
        "id": "31Jp5tHg2HOC"
      }
    },
    {
      "cell_type": "markdown",
      "source": [
        "For this **SALES DATA ANALYSIS**, I am using ECOMM DATA set which is providing by the Afama Technolohies.\n",
        "\n",
        "**Data Set Link** - https://drive.google.com/drive/folders/1SBScS_ixyyh4VtI3DaCbmgvCflgdyyJv"
      ],
      "metadata": {
        "id": "WyWq4wzh2OcB"
      }
    },
    {
      "cell_type": "markdown",
      "source": [
        "# **Let's Begin !**"
      ],
      "metadata": {
        "id": "NRF8cRgP2-3z"
      }
    },
    {
      "cell_type": "code",
      "source": [
        "# Connecting Google Drive\n",
        "from google.colab import drive\n",
        "drive.mount('/content/drive')"
      ],
      "metadata": {
        "id": "qrU4e_0Pyv6k",
        "outputId": "3eb13b6d-2e5a-4ac7-b4f1-9f19a6bbde9a",
        "colab": {
          "base_uri": "https://localhost:8080/"
        }
      },
      "execution_count": null,
      "outputs": [
        {
          "output_type": "stream",
          "name": "stdout",
          "text": [
            "Mounted at /content/drive\n"
          ]
        }
      ]
    },
    {
      "cell_type": "code",
      "source": [
        "# Importing libraries\n",
        "import pandas as pd\n",
        "import matplotlib.pyplot as plt\n",
        "import numpy as np\n",
        "import seaborn as sns\n",
        "import missingno as msno"
      ],
      "metadata": {
        "id": "Abgz7dQdy7Pt"
      },
      "execution_count": null,
      "outputs": []
    },
    {
      "cell_type": "code",
      "source": [
        "# Reading the ECOMM DATA set\n",
        "orders = pd.read_excel('ECOMM DATA.xlsx', sheet_name='Orders')\n",
        "returns = pd.read_excel('ECOMM DATA.xlsx', sheet_name='Returns')\n",
        "people = pd.read_excel('ECOMM DATA.xlsx', sheet_name='People')"
      ],
      "metadata": {
        "id": "9cAIgMb5y16a"
      },
      "execution_count": null,
      "outputs": []
    },
    {
      "cell_type": "markdown",
      "source": [
        "**Cleaning & Preprocessing**"
      ],
      "metadata": {
        "id": "fPV_kYUx3dmH"
      }
    },
    {
      "cell_type": "code",
      "source": [
        "# First look of the data set\n",
        "orders.head()"
      ],
      "metadata": {
        "id": "0jJ91g2_3cMq",
        "outputId": "f3b46178-5e23-4c2a-d18f-45dd3bdecf19",
        "colab": {
          "base_uri": "https://localhost:8080/",
          "height": 603
        }
      },
      "execution_count": null,
      "outputs": [
        {
          "output_type": "execute_result",
          "data": {
            "text/plain": [
              "   Row ID         Order ID Order Date  Ship Date     Ship Mode Customer ID  \\\n",
              "0   32298   CA-2012-124891 2012-07-31 2012-07-31      Same Day    RH-19495   \n",
              "1   26341    IN-2013-77878 2013-02-05 2013-02-07  Second Class    JR-16210   \n",
              "2   25330    IN-2013-71249 2013-10-17 2013-10-18   First Class    CR-12730   \n",
              "3   13524  ES-2013-1579342 2013-01-28 2013-01-30   First Class    KM-16375   \n",
              "4   47221     SG-2013-4320 2013-11-05 2013-11-06      Same Day     RH-9495   \n",
              "\n",
              "      Customer Name      Segment           City            State  ...  \\\n",
              "0       Rick Hansen     Consumer  New York City         New York  ...   \n",
              "1     Justin Ritter    Corporate     Wollongong  New South Wales  ...   \n",
              "2      Craig Reiter     Consumer       Brisbane       Queensland  ...   \n",
              "3  Katherine Murray  Home Office         Berlin           Berlin  ...   \n",
              "4       Rick Hansen     Consumer          Dakar            Dakar  ...   \n",
              "\n",
              "         Product ID    Category Sub-Category  \\\n",
              "0   TEC-AC-10003033  Technology  Accessories   \n",
              "1   FUR-CH-10003950   Furniture       Chairs   \n",
              "2   TEC-PH-10004664  Technology       Phones   \n",
              "3   TEC-PH-10004583  Technology       Phones   \n",
              "4  TEC-SHA-10000501  Technology      Copiers   \n",
              "\n",
              "                                        Product Name     Sales Quantity  \\\n",
              "0  Plantronics CS510 - Over-the-Head monaural Wir...  2309.650        7   \n",
              "1          Novimex Executive Leather Armchair, Black  3709.395        9   \n",
              "2                  Nokia Smart Phone, with Caller ID  5175.171        9   \n",
              "3                     Motorola Smart Phone, Cordless  2892.510        5   \n",
              "4                     Sharp Wireless Fax, High-Speed  2832.960        8   \n",
              "\n",
              "  Discount    Profit  Shipping Cost  Order Priority  \n",
              "0      0.0  762.1845         933.57        Critical  \n",
              "1      0.1 -288.7650         923.63        Critical  \n",
              "2      0.1  919.9710         915.49          Medium  \n",
              "3      0.1  -96.5400         910.16          Medium  \n",
              "4      0.0  311.5200         903.04        Critical  \n",
              "\n",
              "[5 rows x 24 columns]"
            ],
            "text/html": [
              "\n",
              "  <div id=\"df-77b8757d-792e-4e11-a5da-32e70b828e84\" class=\"colab-df-container\">\n",
              "    <div>\n",
              "<style scoped>\n",
              "    .dataframe tbody tr th:only-of-type {\n",
              "        vertical-align: middle;\n",
              "    }\n",
              "\n",
              "    .dataframe tbody tr th {\n",
              "        vertical-align: top;\n",
              "    }\n",
              "\n",
              "    .dataframe thead th {\n",
              "        text-align: right;\n",
              "    }\n",
              "</style>\n",
              "<table border=\"1\" class=\"dataframe\">\n",
              "  <thead>\n",
              "    <tr style=\"text-align: right;\">\n",
              "      <th></th>\n",
              "      <th>Row ID</th>\n",
              "      <th>Order ID</th>\n",
              "      <th>Order Date</th>\n",
              "      <th>Ship Date</th>\n",
              "      <th>Ship Mode</th>\n",
              "      <th>Customer ID</th>\n",
              "      <th>Customer Name</th>\n",
              "      <th>Segment</th>\n",
              "      <th>City</th>\n",
              "      <th>State</th>\n",
              "      <th>...</th>\n",
              "      <th>Product ID</th>\n",
              "      <th>Category</th>\n",
              "      <th>Sub-Category</th>\n",
              "      <th>Product Name</th>\n",
              "      <th>Sales</th>\n",
              "      <th>Quantity</th>\n",
              "      <th>Discount</th>\n",
              "      <th>Profit</th>\n",
              "      <th>Shipping Cost</th>\n",
              "      <th>Order Priority</th>\n",
              "    </tr>\n",
              "  </thead>\n",
              "  <tbody>\n",
              "    <tr>\n",
              "      <th>0</th>\n",
              "      <td>32298</td>\n",
              "      <td>CA-2012-124891</td>\n",
              "      <td>2012-07-31</td>\n",
              "      <td>2012-07-31</td>\n",
              "      <td>Same Day</td>\n",
              "      <td>RH-19495</td>\n",
              "      <td>Rick Hansen</td>\n",
              "      <td>Consumer</td>\n",
              "      <td>New York City</td>\n",
              "      <td>New York</td>\n",
              "      <td>...</td>\n",
              "      <td>TEC-AC-10003033</td>\n",
              "      <td>Technology</td>\n",
              "      <td>Accessories</td>\n",
              "      <td>Plantronics CS510 - Over-the-Head monaural Wir...</td>\n",
              "      <td>2309.650</td>\n",
              "      <td>7</td>\n",
              "      <td>0.0</td>\n",
              "      <td>762.1845</td>\n",
              "      <td>933.57</td>\n",
              "      <td>Critical</td>\n",
              "    </tr>\n",
              "    <tr>\n",
              "      <th>1</th>\n",
              "      <td>26341</td>\n",
              "      <td>IN-2013-77878</td>\n",
              "      <td>2013-02-05</td>\n",
              "      <td>2013-02-07</td>\n",
              "      <td>Second Class</td>\n",
              "      <td>JR-16210</td>\n",
              "      <td>Justin Ritter</td>\n",
              "      <td>Corporate</td>\n",
              "      <td>Wollongong</td>\n",
              "      <td>New South Wales</td>\n",
              "      <td>...</td>\n",
              "      <td>FUR-CH-10003950</td>\n",
              "      <td>Furniture</td>\n",
              "      <td>Chairs</td>\n",
              "      <td>Novimex Executive Leather Armchair, Black</td>\n",
              "      <td>3709.395</td>\n",
              "      <td>9</td>\n",
              "      <td>0.1</td>\n",
              "      <td>-288.7650</td>\n",
              "      <td>923.63</td>\n",
              "      <td>Critical</td>\n",
              "    </tr>\n",
              "    <tr>\n",
              "      <th>2</th>\n",
              "      <td>25330</td>\n",
              "      <td>IN-2013-71249</td>\n",
              "      <td>2013-10-17</td>\n",
              "      <td>2013-10-18</td>\n",
              "      <td>First Class</td>\n",
              "      <td>CR-12730</td>\n",
              "      <td>Craig Reiter</td>\n",
              "      <td>Consumer</td>\n",
              "      <td>Brisbane</td>\n",
              "      <td>Queensland</td>\n",
              "      <td>...</td>\n",
              "      <td>TEC-PH-10004664</td>\n",
              "      <td>Technology</td>\n",
              "      <td>Phones</td>\n",
              "      <td>Nokia Smart Phone, with Caller ID</td>\n",
              "      <td>5175.171</td>\n",
              "      <td>9</td>\n",
              "      <td>0.1</td>\n",
              "      <td>919.9710</td>\n",
              "      <td>915.49</td>\n",
              "      <td>Medium</td>\n",
              "    </tr>\n",
              "    <tr>\n",
              "      <th>3</th>\n",
              "      <td>13524</td>\n",
              "      <td>ES-2013-1579342</td>\n",
              "      <td>2013-01-28</td>\n",
              "      <td>2013-01-30</td>\n",
              "      <td>First Class</td>\n",
              "      <td>KM-16375</td>\n",
              "      <td>Katherine Murray</td>\n",
              "      <td>Home Office</td>\n",
              "      <td>Berlin</td>\n",
              "      <td>Berlin</td>\n",
              "      <td>...</td>\n",
              "      <td>TEC-PH-10004583</td>\n",
              "      <td>Technology</td>\n",
              "      <td>Phones</td>\n",
              "      <td>Motorola Smart Phone, Cordless</td>\n",
              "      <td>2892.510</td>\n",
              "      <td>5</td>\n",
              "      <td>0.1</td>\n",
              "      <td>-96.5400</td>\n",
              "      <td>910.16</td>\n",
              "      <td>Medium</td>\n",
              "    </tr>\n",
              "    <tr>\n",
              "      <th>4</th>\n",
              "      <td>47221</td>\n",
              "      <td>SG-2013-4320</td>\n",
              "      <td>2013-11-05</td>\n",
              "      <td>2013-11-06</td>\n",
              "      <td>Same Day</td>\n",
              "      <td>RH-9495</td>\n",
              "      <td>Rick Hansen</td>\n",
              "      <td>Consumer</td>\n",
              "      <td>Dakar</td>\n",
              "      <td>Dakar</td>\n",
              "      <td>...</td>\n",
              "      <td>TEC-SHA-10000501</td>\n",
              "      <td>Technology</td>\n",
              "      <td>Copiers</td>\n",
              "      <td>Sharp Wireless Fax, High-Speed</td>\n",
              "      <td>2832.960</td>\n",
              "      <td>8</td>\n",
              "      <td>0.0</td>\n",
              "      <td>311.5200</td>\n",
              "      <td>903.04</td>\n",
              "      <td>Critical</td>\n",
              "    </tr>\n",
              "  </tbody>\n",
              "</table>\n",
              "<p>5 rows × 24 columns</p>\n",
              "</div>\n",
              "    <div class=\"colab-df-buttons\">\n",
              "\n",
              "  <div class=\"colab-df-container\">\n",
              "    <button class=\"colab-df-convert\" onclick=\"convertToInteractive('df-77b8757d-792e-4e11-a5da-32e70b828e84')\"\n",
              "            title=\"Convert this dataframe to an interactive table.\"\n",
              "            style=\"display:none;\">\n",
              "\n",
              "  <svg xmlns=\"http://www.w3.org/2000/svg\" height=\"24px\" viewBox=\"0 -960 960 960\">\n",
              "    <path d=\"M120-120v-720h720v720H120Zm60-500h600v-160H180v160Zm220 220h160v-160H400v160Zm0 220h160v-160H400v160ZM180-400h160v-160H180v160Zm440 0h160v-160H620v160ZM180-180h160v-160H180v160Zm440 0h160v-160H620v160Z\"/>\n",
              "  </svg>\n",
              "    </button>\n",
              "\n",
              "  <style>\n",
              "    .colab-df-container {\n",
              "      display:flex;\n",
              "      gap: 12px;\n",
              "    }\n",
              "\n",
              "    .colab-df-convert {\n",
              "      background-color: #E8F0FE;\n",
              "      border: none;\n",
              "      border-radius: 50%;\n",
              "      cursor: pointer;\n",
              "      display: none;\n",
              "      fill: #1967D2;\n",
              "      height: 32px;\n",
              "      padding: 0 0 0 0;\n",
              "      width: 32px;\n",
              "    }\n",
              "\n",
              "    .colab-df-convert:hover {\n",
              "      background-color: #E2EBFA;\n",
              "      box-shadow: 0px 1px 2px rgba(60, 64, 67, 0.3), 0px 1px 3px 1px rgba(60, 64, 67, 0.15);\n",
              "      fill: #174EA6;\n",
              "    }\n",
              "\n",
              "    .colab-df-buttons div {\n",
              "      margin-bottom: 4px;\n",
              "    }\n",
              "\n",
              "    [theme=dark] .colab-df-convert {\n",
              "      background-color: #3B4455;\n",
              "      fill: #D2E3FC;\n",
              "    }\n",
              "\n",
              "    [theme=dark] .colab-df-convert:hover {\n",
              "      background-color: #434B5C;\n",
              "      box-shadow: 0px 1px 3px 1px rgba(0, 0, 0, 0.15);\n",
              "      filter: drop-shadow(0px 1px 2px rgba(0, 0, 0, 0.3));\n",
              "      fill: #FFFFFF;\n",
              "    }\n",
              "  </style>\n",
              "\n",
              "    <script>\n",
              "      const buttonEl =\n",
              "        document.querySelector('#df-77b8757d-792e-4e11-a5da-32e70b828e84 button.colab-df-convert');\n",
              "      buttonEl.style.display =\n",
              "        google.colab.kernel.accessAllowed ? 'block' : 'none';\n",
              "\n",
              "      async function convertToInteractive(key) {\n",
              "        const element = document.querySelector('#df-77b8757d-792e-4e11-a5da-32e70b828e84');\n",
              "        const dataTable =\n",
              "          await google.colab.kernel.invokeFunction('convertToInteractive',\n",
              "                                                    [key], {});\n",
              "        if (!dataTable) return;\n",
              "\n",
              "        const docLinkHtml = 'Like what you see? Visit the ' +\n",
              "          '<a target=\"_blank\" href=https://colab.research.google.com/notebooks/data_table.ipynb>data table notebook</a>'\n",
              "          + ' to learn more about interactive tables.';\n",
              "        element.innerHTML = '';\n",
              "        dataTable['output_type'] = 'display_data';\n",
              "        await google.colab.output.renderOutput(dataTable, element);\n",
              "        const docLink = document.createElement('div');\n",
              "        docLink.innerHTML = docLinkHtml;\n",
              "        element.appendChild(docLink);\n",
              "      }\n",
              "    </script>\n",
              "  </div>\n",
              "\n",
              "\n",
              "<div id=\"df-03c75dbb-a62b-41a8-819c-bb31fb73153d\">\n",
              "  <button class=\"colab-df-quickchart\" onclick=\"quickchart('df-03c75dbb-a62b-41a8-819c-bb31fb73153d')\"\n",
              "            title=\"Suggest charts\"\n",
              "            style=\"display:none;\">\n",
              "\n",
              "<svg xmlns=\"http://www.w3.org/2000/svg\" height=\"24px\"viewBox=\"0 0 24 24\"\n",
              "     width=\"24px\">\n",
              "    <g>\n",
              "        <path d=\"M19 3H5c-1.1 0-2 .9-2 2v14c0 1.1.9 2 2 2h14c1.1 0 2-.9 2-2V5c0-1.1-.9-2-2-2zM9 17H7v-7h2v7zm4 0h-2V7h2v10zm4 0h-2v-4h2v4z\"/>\n",
              "    </g>\n",
              "</svg>\n",
              "  </button>\n",
              "\n",
              "<style>\n",
              "  .colab-df-quickchart {\n",
              "      --bg-color: #E8F0FE;\n",
              "      --fill-color: #1967D2;\n",
              "      --hover-bg-color: #E2EBFA;\n",
              "      --hover-fill-color: #174EA6;\n",
              "      --disabled-fill-color: #AAA;\n",
              "      --disabled-bg-color: #DDD;\n",
              "  }\n",
              "\n",
              "  [theme=dark] .colab-df-quickchart {\n",
              "      --bg-color: #3B4455;\n",
              "      --fill-color: #D2E3FC;\n",
              "      --hover-bg-color: #434B5C;\n",
              "      --hover-fill-color: #FFFFFF;\n",
              "      --disabled-bg-color: #3B4455;\n",
              "      --disabled-fill-color: #666;\n",
              "  }\n",
              "\n",
              "  .colab-df-quickchart {\n",
              "    background-color: var(--bg-color);\n",
              "    border: none;\n",
              "    border-radius: 50%;\n",
              "    cursor: pointer;\n",
              "    display: none;\n",
              "    fill: var(--fill-color);\n",
              "    height: 32px;\n",
              "    padding: 0;\n",
              "    width: 32px;\n",
              "  }\n",
              "\n",
              "  .colab-df-quickchart:hover {\n",
              "    background-color: var(--hover-bg-color);\n",
              "    box-shadow: 0 1px 2px rgba(60, 64, 67, 0.3), 0 1px 3px 1px rgba(60, 64, 67, 0.15);\n",
              "    fill: var(--button-hover-fill-color);\n",
              "  }\n",
              "\n",
              "  .colab-df-quickchart-complete:disabled,\n",
              "  .colab-df-quickchart-complete:disabled:hover {\n",
              "    background-color: var(--disabled-bg-color);\n",
              "    fill: var(--disabled-fill-color);\n",
              "    box-shadow: none;\n",
              "  }\n",
              "\n",
              "  .colab-df-spinner {\n",
              "    border: 2px solid var(--fill-color);\n",
              "    border-color: transparent;\n",
              "    border-bottom-color: var(--fill-color);\n",
              "    animation:\n",
              "      spin 1s steps(1) infinite;\n",
              "  }\n",
              "\n",
              "  @keyframes spin {\n",
              "    0% {\n",
              "      border-color: transparent;\n",
              "      border-bottom-color: var(--fill-color);\n",
              "      border-left-color: var(--fill-color);\n",
              "    }\n",
              "    20% {\n",
              "      border-color: transparent;\n",
              "      border-left-color: var(--fill-color);\n",
              "      border-top-color: var(--fill-color);\n",
              "    }\n",
              "    30% {\n",
              "      border-color: transparent;\n",
              "      border-left-color: var(--fill-color);\n",
              "      border-top-color: var(--fill-color);\n",
              "      border-right-color: var(--fill-color);\n",
              "    }\n",
              "    40% {\n",
              "      border-color: transparent;\n",
              "      border-right-color: var(--fill-color);\n",
              "      border-top-color: var(--fill-color);\n",
              "    }\n",
              "    60% {\n",
              "      border-color: transparent;\n",
              "      border-right-color: var(--fill-color);\n",
              "    }\n",
              "    80% {\n",
              "      border-color: transparent;\n",
              "      border-right-color: var(--fill-color);\n",
              "      border-bottom-color: var(--fill-color);\n",
              "    }\n",
              "    90% {\n",
              "      border-color: transparent;\n",
              "      border-bottom-color: var(--fill-color);\n",
              "    }\n",
              "  }\n",
              "</style>\n",
              "\n",
              "  <script>\n",
              "    async function quickchart(key) {\n",
              "      const quickchartButtonEl =\n",
              "        document.querySelector('#' + key + ' button');\n",
              "      quickchartButtonEl.disabled = true;  // To prevent multiple clicks.\n",
              "      quickchartButtonEl.classList.add('colab-df-spinner');\n",
              "      try {\n",
              "        const charts = await google.colab.kernel.invokeFunction(\n",
              "            'suggestCharts', [key], {});\n",
              "      } catch (error) {\n",
              "        console.error('Error during call to suggestCharts:', error);\n",
              "      }\n",
              "      quickchartButtonEl.classList.remove('colab-df-spinner');\n",
              "      quickchartButtonEl.classList.add('colab-df-quickchart-complete');\n",
              "    }\n",
              "    (() => {\n",
              "      let quickchartButtonEl =\n",
              "        document.querySelector('#df-03c75dbb-a62b-41a8-819c-bb31fb73153d button');\n",
              "      quickchartButtonEl.style.display =\n",
              "        google.colab.kernel.accessAllowed ? 'block' : 'none';\n",
              "    })();\n",
              "  </script>\n",
              "</div>\n",
              "\n",
              "    </div>\n",
              "  </div>\n"
            ],
            "application/vnd.google.colaboratory.intrinsic+json": {
              "type": "dataframe",
              "variable_name": "orders"
            }
          },
          "metadata": {},
          "execution_count": 29
        }
      ]
    },
    {
      "cell_type": "code",
      "source": [
        "returns.head()\n"
      ],
      "metadata": {
        "id": "Y2Ux6BeW_4jK",
        "outputId": "17d2e89f-aead-42af-a890-3371d3da1ee5",
        "colab": {
          "base_uri": "https://localhost:8080/",
          "height": 206
        }
      },
      "execution_count": null,
      "outputs": [
        {
          "output_type": "execute_result",
          "data": {
            "text/plain": [
              "  Returned         Order ID         Market\n",
              "0      Yes   MX-2013-168137          LATAM\n",
              "1      Yes   US-2011-165316          LATAM\n",
              "2      Yes  ES-2013-1525878             EU\n",
              "3      Yes   CA-2013-118311  United States\n",
              "4      Yes  ES-2011-1276768             EU"
            ],
            "text/html": [
              "\n",
              "  <div id=\"df-4b2e33a0-d7eb-41be-b390-27104cfc1ba2\" class=\"colab-df-container\">\n",
              "    <div>\n",
              "<style scoped>\n",
              "    .dataframe tbody tr th:only-of-type {\n",
              "        vertical-align: middle;\n",
              "    }\n",
              "\n",
              "    .dataframe tbody tr th {\n",
              "        vertical-align: top;\n",
              "    }\n",
              "\n",
              "    .dataframe thead th {\n",
              "        text-align: right;\n",
              "    }\n",
              "</style>\n",
              "<table border=\"1\" class=\"dataframe\">\n",
              "  <thead>\n",
              "    <tr style=\"text-align: right;\">\n",
              "      <th></th>\n",
              "      <th>Returned</th>\n",
              "      <th>Order ID</th>\n",
              "      <th>Market</th>\n",
              "    </tr>\n",
              "  </thead>\n",
              "  <tbody>\n",
              "    <tr>\n",
              "      <th>0</th>\n",
              "      <td>Yes</td>\n",
              "      <td>MX-2013-168137</td>\n",
              "      <td>LATAM</td>\n",
              "    </tr>\n",
              "    <tr>\n",
              "      <th>1</th>\n",
              "      <td>Yes</td>\n",
              "      <td>US-2011-165316</td>\n",
              "      <td>LATAM</td>\n",
              "    </tr>\n",
              "    <tr>\n",
              "      <th>2</th>\n",
              "      <td>Yes</td>\n",
              "      <td>ES-2013-1525878</td>\n",
              "      <td>EU</td>\n",
              "    </tr>\n",
              "    <tr>\n",
              "      <th>3</th>\n",
              "      <td>Yes</td>\n",
              "      <td>CA-2013-118311</td>\n",
              "      <td>United States</td>\n",
              "    </tr>\n",
              "    <tr>\n",
              "      <th>4</th>\n",
              "      <td>Yes</td>\n",
              "      <td>ES-2011-1276768</td>\n",
              "      <td>EU</td>\n",
              "    </tr>\n",
              "  </tbody>\n",
              "</table>\n",
              "</div>\n",
              "    <div class=\"colab-df-buttons\">\n",
              "\n",
              "  <div class=\"colab-df-container\">\n",
              "    <button class=\"colab-df-convert\" onclick=\"convertToInteractive('df-4b2e33a0-d7eb-41be-b390-27104cfc1ba2')\"\n",
              "            title=\"Convert this dataframe to an interactive table.\"\n",
              "            style=\"display:none;\">\n",
              "\n",
              "  <svg xmlns=\"http://www.w3.org/2000/svg\" height=\"24px\" viewBox=\"0 -960 960 960\">\n",
              "    <path d=\"M120-120v-720h720v720H120Zm60-500h600v-160H180v160Zm220 220h160v-160H400v160Zm0 220h160v-160H400v160ZM180-400h160v-160H180v160Zm440 0h160v-160H620v160ZM180-180h160v-160H180v160Zm440 0h160v-160H620v160Z\"/>\n",
              "  </svg>\n",
              "    </button>\n",
              "\n",
              "  <style>\n",
              "    .colab-df-container {\n",
              "      display:flex;\n",
              "      gap: 12px;\n",
              "    }\n",
              "\n",
              "    .colab-df-convert {\n",
              "      background-color: #E8F0FE;\n",
              "      border: none;\n",
              "      border-radius: 50%;\n",
              "      cursor: pointer;\n",
              "      display: none;\n",
              "      fill: #1967D2;\n",
              "      height: 32px;\n",
              "      padding: 0 0 0 0;\n",
              "      width: 32px;\n",
              "    }\n",
              "\n",
              "    .colab-df-convert:hover {\n",
              "      background-color: #E2EBFA;\n",
              "      box-shadow: 0px 1px 2px rgba(60, 64, 67, 0.3), 0px 1px 3px 1px rgba(60, 64, 67, 0.15);\n",
              "      fill: #174EA6;\n",
              "    }\n",
              "\n",
              "    .colab-df-buttons div {\n",
              "      margin-bottom: 4px;\n",
              "    }\n",
              "\n",
              "    [theme=dark] .colab-df-convert {\n",
              "      background-color: #3B4455;\n",
              "      fill: #D2E3FC;\n",
              "    }\n",
              "\n",
              "    [theme=dark] .colab-df-convert:hover {\n",
              "      background-color: #434B5C;\n",
              "      box-shadow: 0px 1px 3px 1px rgba(0, 0, 0, 0.15);\n",
              "      filter: drop-shadow(0px 1px 2px rgba(0, 0, 0, 0.3));\n",
              "      fill: #FFFFFF;\n",
              "    }\n",
              "  </style>\n",
              "\n",
              "    <script>\n",
              "      const buttonEl =\n",
              "        document.querySelector('#df-4b2e33a0-d7eb-41be-b390-27104cfc1ba2 button.colab-df-convert');\n",
              "      buttonEl.style.display =\n",
              "        google.colab.kernel.accessAllowed ? 'block' : 'none';\n",
              "\n",
              "      async function convertToInteractive(key) {\n",
              "        const element = document.querySelector('#df-4b2e33a0-d7eb-41be-b390-27104cfc1ba2');\n",
              "        const dataTable =\n",
              "          await google.colab.kernel.invokeFunction('convertToInteractive',\n",
              "                                                    [key], {});\n",
              "        if (!dataTable) return;\n",
              "\n",
              "        const docLinkHtml = 'Like what you see? Visit the ' +\n",
              "          '<a target=\"_blank\" href=https://colab.research.google.com/notebooks/data_table.ipynb>data table notebook</a>'\n",
              "          + ' to learn more about interactive tables.';\n",
              "        element.innerHTML = '';\n",
              "        dataTable['output_type'] = 'display_data';\n",
              "        await google.colab.output.renderOutput(dataTable, element);\n",
              "        const docLink = document.createElement('div');\n",
              "        docLink.innerHTML = docLinkHtml;\n",
              "        element.appendChild(docLink);\n",
              "      }\n",
              "    </script>\n",
              "  </div>\n",
              "\n",
              "\n",
              "<div id=\"df-3f6d0035-0d05-4660-9b27-beeeba45abae\">\n",
              "  <button class=\"colab-df-quickchart\" onclick=\"quickchart('df-3f6d0035-0d05-4660-9b27-beeeba45abae')\"\n",
              "            title=\"Suggest charts\"\n",
              "            style=\"display:none;\">\n",
              "\n",
              "<svg xmlns=\"http://www.w3.org/2000/svg\" height=\"24px\"viewBox=\"0 0 24 24\"\n",
              "     width=\"24px\">\n",
              "    <g>\n",
              "        <path d=\"M19 3H5c-1.1 0-2 .9-2 2v14c0 1.1.9 2 2 2h14c1.1 0 2-.9 2-2V5c0-1.1-.9-2-2-2zM9 17H7v-7h2v7zm4 0h-2V7h2v10zm4 0h-2v-4h2v4z\"/>\n",
              "    </g>\n",
              "</svg>\n",
              "  </button>\n",
              "\n",
              "<style>\n",
              "  .colab-df-quickchart {\n",
              "      --bg-color: #E8F0FE;\n",
              "      --fill-color: #1967D2;\n",
              "      --hover-bg-color: #E2EBFA;\n",
              "      --hover-fill-color: #174EA6;\n",
              "      --disabled-fill-color: #AAA;\n",
              "      --disabled-bg-color: #DDD;\n",
              "  }\n",
              "\n",
              "  [theme=dark] .colab-df-quickchart {\n",
              "      --bg-color: #3B4455;\n",
              "      --fill-color: #D2E3FC;\n",
              "      --hover-bg-color: #434B5C;\n",
              "      --hover-fill-color: #FFFFFF;\n",
              "      --disabled-bg-color: #3B4455;\n",
              "      --disabled-fill-color: #666;\n",
              "  }\n",
              "\n",
              "  .colab-df-quickchart {\n",
              "    background-color: var(--bg-color);\n",
              "    border: none;\n",
              "    border-radius: 50%;\n",
              "    cursor: pointer;\n",
              "    display: none;\n",
              "    fill: var(--fill-color);\n",
              "    height: 32px;\n",
              "    padding: 0;\n",
              "    width: 32px;\n",
              "  }\n",
              "\n",
              "  .colab-df-quickchart:hover {\n",
              "    background-color: var(--hover-bg-color);\n",
              "    box-shadow: 0 1px 2px rgba(60, 64, 67, 0.3), 0 1px 3px 1px rgba(60, 64, 67, 0.15);\n",
              "    fill: var(--button-hover-fill-color);\n",
              "  }\n",
              "\n",
              "  .colab-df-quickchart-complete:disabled,\n",
              "  .colab-df-quickchart-complete:disabled:hover {\n",
              "    background-color: var(--disabled-bg-color);\n",
              "    fill: var(--disabled-fill-color);\n",
              "    box-shadow: none;\n",
              "  }\n",
              "\n",
              "  .colab-df-spinner {\n",
              "    border: 2px solid var(--fill-color);\n",
              "    border-color: transparent;\n",
              "    border-bottom-color: var(--fill-color);\n",
              "    animation:\n",
              "      spin 1s steps(1) infinite;\n",
              "  }\n",
              "\n",
              "  @keyframes spin {\n",
              "    0% {\n",
              "      border-color: transparent;\n",
              "      border-bottom-color: var(--fill-color);\n",
              "      border-left-color: var(--fill-color);\n",
              "    }\n",
              "    20% {\n",
              "      border-color: transparent;\n",
              "      border-left-color: var(--fill-color);\n",
              "      border-top-color: var(--fill-color);\n",
              "    }\n",
              "    30% {\n",
              "      border-color: transparent;\n",
              "      border-left-color: var(--fill-color);\n",
              "      border-top-color: var(--fill-color);\n",
              "      border-right-color: var(--fill-color);\n",
              "    }\n",
              "    40% {\n",
              "      border-color: transparent;\n",
              "      border-right-color: var(--fill-color);\n",
              "      border-top-color: var(--fill-color);\n",
              "    }\n",
              "    60% {\n",
              "      border-color: transparent;\n",
              "      border-right-color: var(--fill-color);\n",
              "    }\n",
              "    80% {\n",
              "      border-color: transparent;\n",
              "      border-right-color: var(--fill-color);\n",
              "      border-bottom-color: var(--fill-color);\n",
              "    }\n",
              "    90% {\n",
              "      border-color: transparent;\n",
              "      border-bottom-color: var(--fill-color);\n",
              "    }\n",
              "  }\n",
              "</style>\n",
              "\n",
              "  <script>\n",
              "    async function quickchart(key) {\n",
              "      const quickchartButtonEl =\n",
              "        document.querySelector('#' + key + ' button');\n",
              "      quickchartButtonEl.disabled = true;  // To prevent multiple clicks.\n",
              "      quickchartButtonEl.classList.add('colab-df-spinner');\n",
              "      try {\n",
              "        const charts = await google.colab.kernel.invokeFunction(\n",
              "            'suggestCharts', [key], {});\n",
              "      } catch (error) {\n",
              "        console.error('Error during call to suggestCharts:', error);\n",
              "      }\n",
              "      quickchartButtonEl.classList.remove('colab-df-spinner');\n",
              "      quickchartButtonEl.classList.add('colab-df-quickchart-complete');\n",
              "    }\n",
              "    (() => {\n",
              "      let quickchartButtonEl =\n",
              "        document.querySelector('#df-3f6d0035-0d05-4660-9b27-beeeba45abae button');\n",
              "      quickchartButtonEl.style.display =\n",
              "        google.colab.kernel.accessAllowed ? 'block' : 'none';\n",
              "    })();\n",
              "  </script>\n",
              "</div>\n",
              "\n",
              "    </div>\n",
              "  </div>\n"
            ],
            "application/vnd.google.colaboratory.intrinsic+json": {
              "type": "dataframe",
              "variable_name": "returns",
              "summary": "{\n  \"name\": \"returns\",\n  \"rows\": 1173,\n  \"fields\": [\n    {\n      \"column\": \"Returned\",\n      \"properties\": {\n        \"dtype\": \"category\",\n        \"num_unique_values\": 1,\n        \"samples\": [\n          \"Yes\"\n        ],\n        \"semantic_type\": \"\",\n        \"description\": \"\"\n      }\n    },\n    {\n      \"column\": \"Order ID\",\n      \"properties\": {\n        \"dtype\": \"string\",\n        \"num_unique_values\": 1172,\n        \"samples\": [\n          \"IN-2014-72747\"\n        ],\n        \"semantic_type\": \"\",\n        \"description\": \"\"\n      }\n    },\n    {\n      \"column\": \"Market\",\n      \"properties\": {\n        \"dtype\": \"category\",\n        \"num_unique_values\": 4,\n        \"samples\": [\n          \"EU\"\n        ],\n        \"semantic_type\": \"\",\n        \"description\": \"\"\n      }\n    }\n  ]\n}"
            }
          },
          "metadata": {},
          "execution_count": 30
        }
      ]
    },
    {
      "cell_type": "code",
      "source": [
        "people.head()"
      ],
      "metadata": {
        "id": "6Wldnmfb_5xF",
        "outputId": "d1a5c279-4db7-41c0-9cc2-f8fa7dc0858b",
        "colab": {
          "base_uri": "https://localhost:8080/",
          "height": 206
        }
      },
      "execution_count": null,
      "outputs": [
        {
          "output_type": "execute_result",
          "data": {
            "text/plain": [
              "              Person   Region\n",
              "0      Anna Andreadi  Central\n",
              "1        Chuck Magee    South\n",
              "2     Kelly Williams     East\n",
              "3     Matt Collister     West\n",
              "4  Deborah Brumfield   Africa"
            ],
            "text/html": [
              "\n",
              "  <div id=\"df-e20767c4-df5d-4392-a8ef-6fe621a5f185\" class=\"colab-df-container\">\n",
              "    <div>\n",
              "<style scoped>\n",
              "    .dataframe tbody tr th:only-of-type {\n",
              "        vertical-align: middle;\n",
              "    }\n",
              "\n",
              "    .dataframe tbody tr th {\n",
              "        vertical-align: top;\n",
              "    }\n",
              "\n",
              "    .dataframe thead th {\n",
              "        text-align: right;\n",
              "    }\n",
              "</style>\n",
              "<table border=\"1\" class=\"dataframe\">\n",
              "  <thead>\n",
              "    <tr style=\"text-align: right;\">\n",
              "      <th></th>\n",
              "      <th>Person</th>\n",
              "      <th>Region</th>\n",
              "    </tr>\n",
              "  </thead>\n",
              "  <tbody>\n",
              "    <tr>\n",
              "      <th>0</th>\n",
              "      <td>Anna Andreadi</td>\n",
              "      <td>Central</td>\n",
              "    </tr>\n",
              "    <tr>\n",
              "      <th>1</th>\n",
              "      <td>Chuck Magee</td>\n",
              "      <td>South</td>\n",
              "    </tr>\n",
              "    <tr>\n",
              "      <th>2</th>\n",
              "      <td>Kelly Williams</td>\n",
              "      <td>East</td>\n",
              "    </tr>\n",
              "    <tr>\n",
              "      <th>3</th>\n",
              "      <td>Matt Collister</td>\n",
              "      <td>West</td>\n",
              "    </tr>\n",
              "    <tr>\n",
              "      <th>4</th>\n",
              "      <td>Deborah Brumfield</td>\n",
              "      <td>Africa</td>\n",
              "    </tr>\n",
              "  </tbody>\n",
              "</table>\n",
              "</div>\n",
              "    <div class=\"colab-df-buttons\">\n",
              "\n",
              "  <div class=\"colab-df-container\">\n",
              "    <button class=\"colab-df-convert\" onclick=\"convertToInteractive('df-e20767c4-df5d-4392-a8ef-6fe621a5f185')\"\n",
              "            title=\"Convert this dataframe to an interactive table.\"\n",
              "            style=\"display:none;\">\n",
              "\n",
              "  <svg xmlns=\"http://www.w3.org/2000/svg\" height=\"24px\" viewBox=\"0 -960 960 960\">\n",
              "    <path d=\"M120-120v-720h720v720H120Zm60-500h600v-160H180v160Zm220 220h160v-160H400v160Zm0 220h160v-160H400v160ZM180-400h160v-160H180v160Zm440 0h160v-160H620v160ZM180-180h160v-160H180v160Zm440 0h160v-160H620v160Z\"/>\n",
              "  </svg>\n",
              "    </button>\n",
              "\n",
              "  <style>\n",
              "    .colab-df-container {\n",
              "      display:flex;\n",
              "      gap: 12px;\n",
              "    }\n",
              "\n",
              "    .colab-df-convert {\n",
              "      background-color: #E8F0FE;\n",
              "      border: none;\n",
              "      border-radius: 50%;\n",
              "      cursor: pointer;\n",
              "      display: none;\n",
              "      fill: #1967D2;\n",
              "      height: 32px;\n",
              "      padding: 0 0 0 0;\n",
              "      width: 32px;\n",
              "    }\n",
              "\n",
              "    .colab-df-convert:hover {\n",
              "      background-color: #E2EBFA;\n",
              "      box-shadow: 0px 1px 2px rgba(60, 64, 67, 0.3), 0px 1px 3px 1px rgba(60, 64, 67, 0.15);\n",
              "      fill: #174EA6;\n",
              "    }\n",
              "\n",
              "    .colab-df-buttons div {\n",
              "      margin-bottom: 4px;\n",
              "    }\n",
              "\n",
              "    [theme=dark] .colab-df-convert {\n",
              "      background-color: #3B4455;\n",
              "      fill: #D2E3FC;\n",
              "    }\n",
              "\n",
              "    [theme=dark] .colab-df-convert:hover {\n",
              "      background-color: #434B5C;\n",
              "      box-shadow: 0px 1px 3px 1px rgba(0, 0, 0, 0.15);\n",
              "      filter: drop-shadow(0px 1px 2px rgba(0, 0, 0, 0.3));\n",
              "      fill: #FFFFFF;\n",
              "    }\n",
              "  </style>\n",
              "\n",
              "    <script>\n",
              "      const buttonEl =\n",
              "        document.querySelector('#df-e20767c4-df5d-4392-a8ef-6fe621a5f185 button.colab-df-convert');\n",
              "      buttonEl.style.display =\n",
              "        google.colab.kernel.accessAllowed ? 'block' : 'none';\n",
              "\n",
              "      async function convertToInteractive(key) {\n",
              "        const element = document.querySelector('#df-e20767c4-df5d-4392-a8ef-6fe621a5f185');\n",
              "        const dataTable =\n",
              "          await google.colab.kernel.invokeFunction('convertToInteractive',\n",
              "                                                    [key], {});\n",
              "        if (!dataTable) return;\n",
              "\n",
              "        const docLinkHtml = 'Like what you see? Visit the ' +\n",
              "          '<a target=\"_blank\" href=https://colab.research.google.com/notebooks/data_table.ipynb>data table notebook</a>'\n",
              "          + ' to learn more about interactive tables.';\n",
              "        element.innerHTML = '';\n",
              "        dataTable['output_type'] = 'display_data';\n",
              "        await google.colab.output.renderOutput(dataTable, element);\n",
              "        const docLink = document.createElement('div');\n",
              "        docLink.innerHTML = docLinkHtml;\n",
              "        element.appendChild(docLink);\n",
              "      }\n",
              "    </script>\n",
              "  </div>\n",
              "\n",
              "\n",
              "<div id=\"df-44547138-edc6-4740-9114-bdf7c21cc0fd\">\n",
              "  <button class=\"colab-df-quickchart\" onclick=\"quickchart('df-44547138-edc6-4740-9114-bdf7c21cc0fd')\"\n",
              "            title=\"Suggest charts\"\n",
              "            style=\"display:none;\">\n",
              "\n",
              "<svg xmlns=\"http://www.w3.org/2000/svg\" height=\"24px\"viewBox=\"0 0 24 24\"\n",
              "     width=\"24px\">\n",
              "    <g>\n",
              "        <path d=\"M19 3H5c-1.1 0-2 .9-2 2v14c0 1.1.9 2 2 2h14c1.1 0 2-.9 2-2V5c0-1.1-.9-2-2-2zM9 17H7v-7h2v7zm4 0h-2V7h2v10zm4 0h-2v-4h2v4z\"/>\n",
              "    </g>\n",
              "</svg>\n",
              "  </button>\n",
              "\n",
              "<style>\n",
              "  .colab-df-quickchart {\n",
              "      --bg-color: #E8F0FE;\n",
              "      --fill-color: #1967D2;\n",
              "      --hover-bg-color: #E2EBFA;\n",
              "      --hover-fill-color: #174EA6;\n",
              "      --disabled-fill-color: #AAA;\n",
              "      --disabled-bg-color: #DDD;\n",
              "  }\n",
              "\n",
              "  [theme=dark] .colab-df-quickchart {\n",
              "      --bg-color: #3B4455;\n",
              "      --fill-color: #D2E3FC;\n",
              "      --hover-bg-color: #434B5C;\n",
              "      --hover-fill-color: #FFFFFF;\n",
              "      --disabled-bg-color: #3B4455;\n",
              "      --disabled-fill-color: #666;\n",
              "  }\n",
              "\n",
              "  .colab-df-quickchart {\n",
              "    background-color: var(--bg-color);\n",
              "    border: none;\n",
              "    border-radius: 50%;\n",
              "    cursor: pointer;\n",
              "    display: none;\n",
              "    fill: var(--fill-color);\n",
              "    height: 32px;\n",
              "    padding: 0;\n",
              "    width: 32px;\n",
              "  }\n",
              "\n",
              "  .colab-df-quickchart:hover {\n",
              "    background-color: var(--hover-bg-color);\n",
              "    box-shadow: 0 1px 2px rgba(60, 64, 67, 0.3), 0 1px 3px 1px rgba(60, 64, 67, 0.15);\n",
              "    fill: var(--button-hover-fill-color);\n",
              "  }\n",
              "\n",
              "  .colab-df-quickchart-complete:disabled,\n",
              "  .colab-df-quickchart-complete:disabled:hover {\n",
              "    background-color: var(--disabled-bg-color);\n",
              "    fill: var(--disabled-fill-color);\n",
              "    box-shadow: none;\n",
              "  }\n",
              "\n",
              "  .colab-df-spinner {\n",
              "    border: 2px solid var(--fill-color);\n",
              "    border-color: transparent;\n",
              "    border-bottom-color: var(--fill-color);\n",
              "    animation:\n",
              "      spin 1s steps(1) infinite;\n",
              "  }\n",
              "\n",
              "  @keyframes spin {\n",
              "    0% {\n",
              "      border-color: transparent;\n",
              "      border-bottom-color: var(--fill-color);\n",
              "      border-left-color: var(--fill-color);\n",
              "    }\n",
              "    20% {\n",
              "      border-color: transparent;\n",
              "      border-left-color: var(--fill-color);\n",
              "      border-top-color: var(--fill-color);\n",
              "    }\n",
              "    30% {\n",
              "      border-color: transparent;\n",
              "      border-left-color: var(--fill-color);\n",
              "      border-top-color: var(--fill-color);\n",
              "      border-right-color: var(--fill-color);\n",
              "    }\n",
              "    40% {\n",
              "      border-color: transparent;\n",
              "      border-right-color: var(--fill-color);\n",
              "      border-top-color: var(--fill-color);\n",
              "    }\n",
              "    60% {\n",
              "      border-color: transparent;\n",
              "      border-right-color: var(--fill-color);\n",
              "    }\n",
              "    80% {\n",
              "      border-color: transparent;\n",
              "      border-right-color: var(--fill-color);\n",
              "      border-bottom-color: var(--fill-color);\n",
              "    }\n",
              "    90% {\n",
              "      border-color: transparent;\n",
              "      border-bottom-color: var(--fill-color);\n",
              "    }\n",
              "  }\n",
              "</style>\n",
              "\n",
              "  <script>\n",
              "    async function quickchart(key) {\n",
              "      const quickchartButtonEl =\n",
              "        document.querySelector('#' + key + ' button');\n",
              "      quickchartButtonEl.disabled = true;  // To prevent multiple clicks.\n",
              "      quickchartButtonEl.classList.add('colab-df-spinner');\n",
              "      try {\n",
              "        const charts = await google.colab.kernel.invokeFunction(\n",
              "            'suggestCharts', [key], {});\n",
              "      } catch (error) {\n",
              "        console.error('Error during call to suggestCharts:', error);\n",
              "      }\n",
              "      quickchartButtonEl.classList.remove('colab-df-spinner');\n",
              "      quickchartButtonEl.classList.add('colab-df-quickchart-complete');\n",
              "    }\n",
              "    (() => {\n",
              "      let quickchartButtonEl =\n",
              "        document.querySelector('#df-44547138-edc6-4740-9114-bdf7c21cc0fd button');\n",
              "      quickchartButtonEl.style.display =\n",
              "        google.colab.kernel.accessAllowed ? 'block' : 'none';\n",
              "    })();\n",
              "  </script>\n",
              "</div>\n",
              "\n",
              "    </div>\n",
              "  </div>\n"
            ],
            "application/vnd.google.colaboratory.intrinsic+json": {
              "type": "dataframe",
              "variable_name": "people",
              "summary": "{\n  \"name\": \"people\",\n  \"rows\": 13,\n  \"fields\": [\n    {\n      \"column\": \"Person\",\n      \"properties\": {\n        \"dtype\": \"string\",\n        \"num_unique_values\": 13,\n        \"samples\": [\n          \"Anthony Jacobs\",\n          \"Jack Lebron\",\n          \"Anna Andreadi\"\n        ],\n        \"semantic_type\": \"\",\n        \"description\": \"\"\n      }\n    },\n    {\n      \"column\": \"Region\",\n      \"properties\": {\n        \"dtype\": \"string\",\n        \"num_unique_values\": 13,\n        \"samples\": [\n          \"Oceania\",\n          \"North\",\n          \"Central\"\n        ],\n        \"semantic_type\": \"\",\n        \"description\": \"\"\n      }\n    }\n  ]\n}"
            }
          },
          "metadata": {},
          "execution_count": 31
        }
      ]
    },
    {
      "cell_type": "code",
      "source": [
        "# dataset columns\n",
        "orders.columns"
      ],
      "metadata": {
        "id": "2QxrDIVy3yFW",
        "outputId": "fd8636a5-db8d-4601-b648-0e1ccdc2c1b6",
        "colab": {
          "base_uri": "https://localhost:8080/"
        }
      },
      "execution_count": null,
      "outputs": [
        {
          "output_type": "execute_result",
          "data": {
            "text/plain": [
              "Index(['Row ID', 'Order ID', 'Order Date', 'Ship Date', 'Ship Mode',\n",
              "       'Customer ID', 'Customer Name', 'Segment', 'City', 'State', 'Country',\n",
              "       'Postal Code', 'Market', 'Region', 'Product ID', 'Category',\n",
              "       'Sub-Category', 'Product Name', 'Sales', 'Quantity', 'Discount',\n",
              "       'Profit', 'Shipping Cost', 'Order Priority'],\n",
              "      dtype='object')"
            ]
          },
          "metadata": {},
          "execution_count": 32
        }
      ]
    },
    {
      "cell_type": "code",
      "source": [
        "returns.columns"
      ],
      "metadata": {
        "id": "bTuWeBXOALdl",
        "outputId": "83773218-9e48-4ed3-d8f4-07fa78aa24a5",
        "colab": {
          "base_uri": "https://localhost:8080/"
        }
      },
      "execution_count": null,
      "outputs": [
        {
          "output_type": "execute_result",
          "data": {
            "text/plain": [
              "Index(['Returned', 'Order ID', 'Market'], dtype='object')"
            ]
          },
          "metadata": {},
          "execution_count": 33
        }
      ]
    },
    {
      "cell_type": "code",
      "source": [
        "people.columns"
      ],
      "metadata": {
        "id": "dndkV29EAPXd",
        "outputId": "4d8d9443-4daa-4108-b3f5-13209051cdf1",
        "colab": {
          "base_uri": "https://localhost:8080/"
        }
      },
      "execution_count": null,
      "outputs": [
        {
          "output_type": "execute_result",
          "data": {
            "text/plain": [
              "Index(['Person', 'Region'], dtype='object')"
            ]
          },
          "metadata": {},
          "execution_count": 34
        }
      ]
    },
    {
      "cell_type": "code",
      "source": [
        "# Checking number of rows & column\n",
        "orders.shape"
      ],
      "metadata": {
        "id": "XWKfzEeu33Lo",
        "outputId": "c367d6ae-e31b-49ec-a0ba-0cfc514adffd",
        "colab": {
          "base_uri": "https://localhost:8080/"
        }
      },
      "execution_count": null,
      "outputs": [
        {
          "output_type": "execute_result",
          "data": {
            "text/plain": [
              "(51290, 24)"
            ]
          },
          "metadata": {},
          "execution_count": 35
        }
      ]
    },
    {
      "cell_type": "code",
      "source": [
        "returns.shape"
      ],
      "metadata": {
        "id": "CvIVtvNcAW0b",
        "outputId": "f1865ac8-07a9-415b-de01-8b859bac4a07",
        "colab": {
          "base_uri": "https://localhost:8080/"
        }
      },
      "execution_count": null,
      "outputs": [
        {
          "output_type": "execute_result",
          "data": {
            "text/plain": [
              "(1173, 3)"
            ]
          },
          "metadata": {},
          "execution_count": 36
        }
      ]
    },
    {
      "cell_type": "code",
      "source": [
        "people.shape"
      ],
      "metadata": {
        "id": "jNAoXS6TAZ67",
        "outputId": "2d1e696d-cf4c-4754-da4b-2e248e37f1c0",
        "colab": {
          "base_uri": "https://localhost:8080/"
        }
      },
      "execution_count": null,
      "outputs": [
        {
          "output_type": "execute_result",
          "data": {
            "text/plain": [
              "(13, 2)"
            ]
          },
          "metadata": {},
          "execution_count": 37
        }
      ]
    },
    {
      "cell_type": "code",
      "source": [
        "# Data Set Info\n",
        "orders.info()"
      ],
      "metadata": {
        "id": "-MKrlje338R8",
        "outputId": "b7d17966-2997-47ad-e857-dec3b90b845f",
        "colab": {
          "base_uri": "https://localhost:8080/"
        }
      },
      "execution_count": null,
      "outputs": [
        {
          "output_type": "stream",
          "name": "stdout",
          "text": [
            "<class 'pandas.core.frame.DataFrame'>\n",
            "RangeIndex: 51290 entries, 0 to 51289\n",
            "Data columns (total 24 columns):\n",
            " #   Column          Non-Null Count  Dtype         \n",
            "---  ------          --------------  -----         \n",
            " 0   Row ID          51290 non-null  int64         \n",
            " 1   Order ID        51290 non-null  object        \n",
            " 2   Order Date      51290 non-null  datetime64[ns]\n",
            " 3   Ship Date       51290 non-null  datetime64[ns]\n",
            " 4   Ship Mode       51290 non-null  object        \n",
            " 5   Customer ID     51290 non-null  object        \n",
            " 6   Customer Name   51290 non-null  object        \n",
            " 7   Segment         51290 non-null  object        \n",
            " 8   City            51290 non-null  object        \n",
            " 9   State           51290 non-null  object        \n",
            " 10  Country         51290 non-null  object        \n",
            " 11  Postal Code     9994 non-null   float64       \n",
            " 12  Market          51290 non-null  object        \n",
            " 13  Region          51290 non-null  object        \n",
            " 14  Product ID      51290 non-null  object        \n",
            " 15  Category        51290 non-null  object        \n",
            " 16  Sub-Category    51290 non-null  object        \n",
            " 17  Product Name    51290 non-null  object        \n",
            " 18  Sales           51290 non-null  float64       \n",
            " 19  Quantity        51290 non-null  int64         \n",
            " 20  Discount        51290 non-null  float64       \n",
            " 21  Profit          51290 non-null  float64       \n",
            " 22  Shipping Cost   51290 non-null  float64       \n",
            " 23  Order Priority  51290 non-null  object        \n",
            "dtypes: datetime64[ns](2), float64(5), int64(2), object(15)\n",
            "memory usage: 9.4+ MB\n"
          ]
        }
      ]
    },
    {
      "cell_type": "code",
      "source": [
        "returns.info()"
      ],
      "metadata": {
        "id": "QLG8RCvvAfRn",
        "outputId": "e1d77e26-f967-47b3-9f9d-7667af8657d3",
        "colab": {
          "base_uri": "https://localhost:8080/"
        }
      },
      "execution_count": null,
      "outputs": [
        {
          "output_type": "stream",
          "name": "stdout",
          "text": [
            "<class 'pandas.core.frame.DataFrame'>\n",
            "RangeIndex: 1173 entries, 0 to 1172\n",
            "Data columns (total 3 columns):\n",
            " #   Column    Non-Null Count  Dtype \n",
            "---  ------    --------------  ----- \n",
            " 0   Returned  1173 non-null   object\n",
            " 1   Order ID  1173 non-null   object\n",
            " 2   Market    1173 non-null   object\n",
            "dtypes: object(3)\n",
            "memory usage: 27.6+ KB\n"
          ]
        }
      ]
    },
    {
      "cell_type": "code",
      "source": [
        "people.info()"
      ],
      "metadata": {
        "id": "hZWS9hfzAj3A",
        "outputId": "1f48c1aa-0957-4eff-c6b7-67f494dac9e9",
        "colab": {
          "base_uri": "https://localhost:8080/"
        }
      },
      "execution_count": null,
      "outputs": [
        {
          "output_type": "stream",
          "name": "stdout",
          "text": [
            "<class 'pandas.core.frame.DataFrame'>\n",
            "RangeIndex: 13 entries, 0 to 12\n",
            "Data columns (total 2 columns):\n",
            " #   Column  Non-Null Count  Dtype \n",
            "---  ------  --------------  ----- \n",
            " 0   Person  13 non-null     object\n",
            " 1   Region  13 non-null     object\n",
            "dtypes: object(2)\n",
            "memory usage: 336.0+ bytes\n"
          ]
        }
      ]
    },
    {
      "cell_type": "code",
      "source": [
        "# Checking Douplicates\n",
        "orders.duplicated().sum()"
      ],
      "metadata": {
        "id": "4PGinJ2w4ATG",
        "outputId": "1a8b0182-d1b4-44c7-f5d4-e86995be4d6c",
        "colab": {
          "base_uri": "https://localhost:8080/"
        }
      },
      "execution_count": null,
      "outputs": [
        {
          "output_type": "execute_result",
          "data": {
            "text/plain": [
              "0"
            ]
          },
          "metadata": {},
          "execution_count": 41
        }
      ]
    },
    {
      "cell_type": "code",
      "source": [
        "returns.duplicated().sum()"
      ],
      "metadata": {
        "id": "XukDZed_ApUL",
        "outputId": "bc32441b-1c04-4b02-aa99-ccc00cb1557a",
        "colab": {
          "base_uri": "https://localhost:8080/"
        }
      },
      "execution_count": null,
      "outputs": [
        {
          "output_type": "execute_result",
          "data": {
            "text/plain": [
              "0"
            ]
          },
          "metadata": {},
          "execution_count": 42
        }
      ]
    },
    {
      "cell_type": "code",
      "source": [
        "people.duplicated().sum()"
      ],
      "metadata": {
        "id": "-i3F_NaQAuM5",
        "outputId": "71e1202b-f89f-417b-ffdf-dbbca56e42c4",
        "colab": {
          "base_uri": "https://localhost:8080/"
        }
      },
      "execution_count": null,
      "outputs": [
        {
          "output_type": "execute_result",
          "data": {
            "text/plain": [
              "0"
            ]
          },
          "metadata": {},
          "execution_count": 43
        }
      ]
    },
    {
      "cell_type": "code",
      "source": [
        "# Checking Null Values or Missing values\n",
        "orders.isna().sum()"
      ],
      "metadata": {
        "id": "naIvSQ4D4oi1",
        "outputId": "1dae5ce1-d54e-4881-a44f-4799ffa3d474",
        "colab": {
          "base_uri": "https://localhost:8080/"
        }
      },
      "execution_count": null,
      "outputs": [
        {
          "output_type": "execute_result",
          "data": {
            "text/plain": [
              "Row ID                0\n",
              "Order ID              0\n",
              "Order Date            0\n",
              "Ship Date             0\n",
              "Ship Mode             0\n",
              "Customer ID           0\n",
              "Customer Name         0\n",
              "Segment               0\n",
              "City                  0\n",
              "State                 0\n",
              "Country               0\n",
              "Postal Code       41296\n",
              "Market                0\n",
              "Region                0\n",
              "Product ID            0\n",
              "Category              0\n",
              "Sub-Category          0\n",
              "Product Name          0\n",
              "Sales                 0\n",
              "Quantity              0\n",
              "Discount              0\n",
              "Profit                0\n",
              "Shipping Cost         0\n",
              "Order Priority        0\n",
              "dtype: int64"
            ]
          },
          "metadata": {},
          "execution_count": 44
        }
      ]
    },
    {
      "cell_type": "code",
      "source": [
        "returns.isna().sum()"
      ],
      "metadata": {
        "id": "-oxWdDJVA37C",
        "outputId": "8aae97dd-12c3-4550-c051-0d93fb486324",
        "colab": {
          "base_uri": "https://localhost:8080/"
        }
      },
      "execution_count": null,
      "outputs": [
        {
          "output_type": "execute_result",
          "data": {
            "text/plain": [
              "Returned    0\n",
              "Order ID    0\n",
              "Market      0\n",
              "dtype: int64"
            ]
          },
          "metadata": {},
          "execution_count": 45
        }
      ]
    },
    {
      "cell_type": "code",
      "source": [
        "people.isna().sum()"
      ],
      "metadata": {
        "id": "ywzs8TqiA9-j",
        "outputId": "bb00a735-8a89-4f76-f73b-483c47cef7e1",
        "colab": {
          "base_uri": "https://localhost:8080/"
        }
      },
      "execution_count": null,
      "outputs": [
        {
          "output_type": "execute_result",
          "data": {
            "text/plain": [
              "Person    0\n",
              "Region    0\n",
              "dtype: int64"
            ]
          },
          "metadata": {},
          "execution_count": 46
        }
      ]
    },
    {
      "cell_type": "code",
      "source": [
        "# Checking outliers\n",
        "sns.displot(orders, bins=30);"
      ],
      "metadata": {
        "id": "0yYabY7D5c6q",
        "outputId": "e3e570fe-927b-4787-f5e0-e75c77380af2",
        "colab": {
          "base_uri": "https://localhost:8080/",
          "height": 506
        }
      },
      "execution_count": null,
      "outputs": [
        {
          "output_type": "display_data",
          "data": {
            "text/plain": [
              "<Figure size 645.875x500 with 1 Axes>"
            ],
            "image/png": "[encoded data removed]"
          },
          "metadata": {}
        }
      ]
    },
    {
      "cell_type": "code",
      "source": [
        "# Describe\n",
        "orders.describe().T"
      ],
      "metadata": {
        "id": "_y_Ke5AK5z_C",
        "outputId": "0c7d7232-49ba-4eff-ad03-2057a38a04ad",
        "colab": {
          "base_uri": "https://localhost:8080/",
          "height": 401
        }
      },
      "execution_count": null,
      "outputs": [
        {
          "output_type": "execute_result",
          "data": {
            "text/plain": [
              "                 count                           mean                  min  \\\n",
              "Row ID         51290.0                        25645.5                  1.0   \n",
              "Order Date       51290  2013-05-11 21:26:49.155781120  2011-01-01 00:00:00   \n",
              "Ship Date        51290  2013-05-15 20:42:42.745174528  2011-01-03 00:00:00   \n",
              "Postal Code     9994.0                   55190.379428               1040.0   \n",
              "Sales          51290.0                     246.490581                0.444   \n",
              "Quantity       51290.0                       3.476545                  1.0   \n",
              "Discount       51290.0                       0.142908                  0.0   \n",
              "Profit         51290.0                      28.610982            -6599.978   \n",
              "Shipping Cost  51290.0                      26.375818                0.002   \n",
              "\n",
              "                               25%                  50%                  75%  \\\n",
              "Row ID                    12823.25              25645.5             38467.75   \n",
              "Order Date     2012-06-19 00:00:00  2013-07-08 00:00:00  2014-05-22 00:00:00   \n",
              "Ship Date      2012-06-23 00:00:00  2013-07-12 00:00:00  2014-05-26 00:00:00   \n",
              "Postal Code                23223.0              56430.5              90008.0   \n",
              "Sales                    30.758625               85.053             251.0532   \n",
              "Quantity                       2.0                  3.0                  5.0   \n",
              "Discount                       0.0                  0.0                  0.2   \n",
              "Profit                         0.0                 9.24                36.81   \n",
              "Shipping Cost                 2.61                 7.79                24.45   \n",
              "\n",
              "                               max          std  \n",
              "Row ID                     51290.0  14806.29199  \n",
              "Order Date     2014-12-31 00:00:00          NaN  \n",
              "Ship Date      2015-01-07 00:00:00          NaN  \n",
              "Postal Code                99301.0  32063.69335  \n",
              "Sales                     22638.48   487.565361  \n",
              "Quantity                      14.0     2.278766  \n",
              "Discount                      0.85      0.21228  \n",
              "Profit                    8399.976   174.340972  \n",
              "Shipping Cost               933.57     57.29681  "
            ],
            "text/html": [
              "\n",
              "  <div id=\"df-f68ab12a-21b2-43f2-a5b0-cf62cbf24921\" class=\"colab-df-container\">\n",
              "    <div>\n",
              "<style scoped>\n",
              "    .dataframe tbody tr th:only-of-type {\n",
              "        vertical-align: middle;\n",
              "    }\n",
              "\n",
              "    .dataframe tbody tr th {\n",
              "        vertical-align: top;\n",
              "    }\n",
              "\n",
              "    .dataframe thead th {\n",
              "        text-align: right;\n",
              "    }\n",
              "</style>\n",
              "<table border=\"1\" class=\"dataframe\">\n",
              "  <thead>\n",
              "    <tr style=\"text-align: right;\">\n",
              "      <th></th>\n",
              "      <th>count</th>\n",
              "      <th>mean</th>\n",
              "      <th>min</th>\n",
              "      <th>25%</th>\n",
              "      <th>50%</th>\n",
              "      <th>75%</th>\n",
              "      <th>max</th>\n",
              "      <th>std</th>\n",
              "    </tr>\n",
              "  </thead>\n",
              "  <tbody>\n",
              "    <tr>\n",
              "      <th>Row ID</th>\n",
              "      <td>51290.0</td>\n",
              "      <td>25645.5</td>\n",
              "      <td>1.0</td>\n",
              "      <td>12823.25</td>\n",
              "      <td>25645.5</td>\n",
              "      <td>38467.75</td>\n",
              "      <td>51290.0</td>\n",
              "      <td>14806.29199</td>\n",
              "    </tr>\n",
              "    <tr>\n",
              "      <th>Order Date</th>\n",
              "      <td>51290</td>\n",
              "      <td>2013-05-11 21:26:49.155781120</td>\n",
              "      <td>2011-01-01 00:00:00</td>\n",
              "      <td>2012-06-19 00:00:00</td>\n",
              "      <td>2013-07-08 00:00:00</td>\n",
              "      <td>2014-05-22 00:00:00</td>\n",
              "      <td>2014-12-31 00:00:00</td>\n",
              "      <td>NaN</td>\n",
              "    </tr>\n",
              "    <tr>\n",
              "      <th>Ship Date</th>\n",
              "      <td>51290</td>\n",
              "      <td>2013-05-15 20:42:42.745174528</td>\n",
              "      <td>2011-01-03 00:00:00</td>\n",
              "      <td>2012-06-23 00:00:00</td>\n",
              "      <td>2013-07-12 00:00:00</td>\n",
              "      <td>2014-05-26 00:00:00</td>\n",
              "      <td>2015-01-07 00:00:00</td>\n",
              "      <td>NaN</td>\n",
              "    </tr>\n",
              "    <tr>\n",
              "      <th>Postal Code</th>\n",
              "      <td>9994.0</td>\n",
              "      <td>55190.379428</td>\n",
              "      <td>1040.0</td>\n",
              "      <td>23223.0</td>\n",
              "      <td>56430.5</td>\n",
              "      <td>90008.0</td>\n",
              "      <td>99301.0</td>\n",
              "      <td>32063.69335</td>\n",
              "    </tr>\n",
              "    <tr>\n",
              "      <th>Sales</th>\n",
              "      <td>51290.0</td>\n",
              "      <td>246.490581</td>\n",
              "      <td>0.444</td>\n",
              "      <td>30.758625</td>\n",
              "      <td>85.053</td>\n",
              "      <td>251.0532</td>\n",
              "      <td>22638.48</td>\n",
              "      <td>487.565361</td>\n",
              "    </tr>\n",
              "    <tr>\n",
              "      <th>Quantity</th>\n",
              "      <td>51290.0</td>\n",
              "      <td>3.476545</td>\n",
              "      <td>1.0</td>\n",
              "      <td>2.0</td>\n",
              "      <td>3.0</td>\n",
              "      <td>5.0</td>\n",
              "      <td>14.0</td>\n",
              "      <td>2.278766</td>\n",
              "    </tr>\n",
              "    <tr>\n",
              "      <th>Discount</th>\n",
              "      <td>51290.0</td>\n",
              "      <td>0.142908</td>\n",
              "      <td>0.0</td>\n",
              "      <td>0.0</td>\n",
              "      <td>0.0</td>\n",
              "      <td>0.2</td>\n",
              "      <td>0.85</td>\n",
              "      <td>0.21228</td>\n",
              "    </tr>\n",
              "    <tr>\n",
              "      <th>Profit</th>\n",
              "      <td>51290.0</td>\n",
              "      <td>28.610982</td>\n",
              "      <td>-6599.978</td>\n",
              "      <td>0.0</td>\n",
              "      <td>9.24</td>\n",
              "      <td>36.81</td>\n",
              "      <td>8399.976</td>\n",
              "      <td>174.340972</td>\n",
              "    </tr>\n",
              "    <tr>\n",
              "      <th>Shipping Cost</th>\n",
              "      <td>51290.0</td>\n",
              "      <td>26.375818</td>\n",
              "      <td>0.002</td>\n",
              "      <td>2.61</td>\n",
              "      <td>7.79</td>\n",
              "      <td>24.45</td>\n",
              "      <td>933.57</td>\n",
              "      <td>57.29681</td>\n",
              "    </tr>\n",
              "  </tbody>\n",
              "</table>\n",
              "</div>\n",
              "    <div class=\"colab-df-buttons\">\n",
              "\n",
              "  <div class=\"colab-df-container\">\n",
              "    <button class=\"colab-df-convert\" onclick=\"convertToInteractive('df-f68ab12a-21b2-43f2-a5b0-cf62cbf24921')\"\n",
              "            title=\"Convert this dataframe to an interactive table.\"\n",
              "            style=\"display:none;\">\n",
              "\n",
              "  <svg xmlns=\"http://www.w3.org/2000/svg\" height=\"24px\" viewBox=\"0 -960 960 960\">\n",
              "    <path d=\"M120-120v-720h720v720H120Zm60-500h600v-160H180v160Zm220 220h160v-160H400v160Zm0 220h160v-160H400v160ZM180-400h160v-160H180v160Zm440 0h160v-160H620v160ZM180-180h160v-160H180v160Zm440 0h160v-160H620v160Z\"/>\n",
              "  </svg>\n",
              "    </button>\n",
              "\n",
              "  <style>\n",
              "    .colab-df-container {\n",
              "      display:flex;\n",
              "      gap: 12px;\n",
              "    }\n",
              "\n",
              "    .colab-df-convert {\n",
              "      background-color: #E8F0FE;\n",
              "      border: none;\n",
              "      border-radius: 50%;\n",
              "      cursor: pointer;\n",
              "      display: none;\n",
              "      fill: #1967D2;\n",
              "      height: 32px;\n",
              "      padding: 0 0 0 0;\n",
              "      width: 32px;\n",
              "    }\n",
              "\n",
              "    .colab-df-convert:hover {\n",
              "      background-color: #E2EBFA;\n",
              "      box-shadow: 0px 1px 2px rgba(60, 64, 67, 0.3), 0px 1px 3px 1px rgba(60, 64, 67, 0.15);\n",
              "      fill: #174EA6;\n",
              "    }\n",
              "\n",
              "    .colab-df-buttons div {\n",
              "      margin-bottom: 4px;\n",
              "    }\n",
              "\n",
              "    [theme=dark] .colab-df-convert {\n",
              "      background-color: #3B4455;\n",
              "      fill: #D2E3FC;\n",
              "    }\n",
              "\n",
              "    [theme=dark] .colab-df-convert:hover {\n",
              "      background-color: #434B5C;\n",
              "      box-shadow: 0px 1px 3px 1px rgba(0, 0, 0, 0.15);\n",
              "      filter: drop-shadow(0px 1px 2px rgba(0, 0, 0, 0.3));\n",
              "      fill: #FFFFFF;\n",
              "    }\n",
              "  </style>\n",
              "\n",
              "    <script>\n",
              "      const buttonEl =\n",
              "        document.querySelector('#df-f68ab12a-21b2-43f2-a5b0-cf62cbf24921 button.colab-df-convert');\n",
              "      buttonEl.style.display =\n",
              "        google.colab.kernel.accessAllowed ? 'block' : 'none';\n",
              "\n",
              "      async function convertToInteractive(key) {\n",
              "        const element = document.querySelector('#df-f68ab12a-21b2-43f2-a5b0-cf62cbf24921');\n",
              "        const dataTable =\n",
              "          await google.colab.kernel.invokeFunction('convertToInteractive',\n",
              "                                                    [key], {});\n",
              "        if (!dataTable) return;\n",
              "\n",
              "        const docLinkHtml = 'Like what you see? Visit the ' +\n",
              "          '<a target=\"_blank\" href=https://colab.research.google.com/notebooks/data_table.ipynb>data table notebook</a>'\n",
              "          + ' to learn more about interactive tables.';\n",
              "        element.innerHTML = '';\n",
              "        dataTable['output_type'] = 'display_data';\n",
              "        await google.colab.output.renderOutput(dataTable, element);\n",
              "        const docLink = document.createElement('div');\n",
              "        docLink.innerHTML = docLinkHtml;\n",
              "        element.appendChild(docLink);\n",
              "      }\n",
              "    </script>\n",
              "  </div>\n",
              "\n",
              "\n",
              "<div id=\"df-8d7c3ee3-268b-4acd-9238-c77090a35ec9\">\n",
              "  <button class=\"colab-df-quickchart\" onclick=\"quickchart('df-8d7c3ee3-268b-4acd-9238-c77090a35ec9')\"\n",
              "            title=\"Suggest charts\"\n",
              "            style=\"display:none;\">\n",
              "\n",
              "<svg xmlns=\"http://www.w3.org/2000/svg\" height=\"24px\"viewBox=\"0 0 24 24\"\n",
              "     width=\"24px\">\n",
              "    <g>\n",
              "        <path d=\"M19 3H5c-1.1 0-2 .9-2 2v14c0 1.1.9 2 2 2h14c1.1 0 2-.9 2-2V5c0-1.1-.9-2-2-2zM9 17H7v-7h2v7zm4 0h-2V7h2v10zm4 0h-2v-4h2v4z\"/>\n",
              "    </g>\n",
              "</svg>\n",
              "  </button>\n",
              "\n",
              "<style>\n",
              "  .colab-df-quickchart {\n",
              "      --bg-color: #E8F0FE;\n",
              "      --fill-color: #1967D2;\n",
              "      --hover-bg-color: #E2EBFA;\n",
              "      --hover-fill-color: #174EA6;\n",
              "      --disabled-fill-color: #AAA;\n",
              "      --disabled-bg-color: #DDD;\n",
              "  }\n",
              "\n",
              "  [theme=dark] .colab-df-quickchart {\n",
              "      --bg-color: #3B4455;\n",
              "      --fill-color: #D2E3FC;\n",
              "      --hover-bg-color: #434B5C;\n",
              "      --hover-fill-color: #FFFFFF;\n",
              "      --disabled-bg-color: #3B4455;\n",
              "      --disabled-fill-color: #666;\n",
              "  }\n",
              "\n",
              "  .colab-df-quickchart {\n",
              "    background-color: var(--bg-color);\n",
              "    border: none;\n",
              "    border-radius: 50%;\n",
              "    cursor: pointer;\n",
              "    display: none;\n",
              "    fill: var(--fill-color);\n",
              "    height: 32px;\n",
              "    padding: 0;\n",
              "    width: 32px;\n",
              "  }\n",
              "\n",
              "  .colab-df-quickchart:hover {\n",
              "    background-color: var(--hover-bg-color);\n",
              "    box-shadow: 0 1px 2px rgba(60, 64, 67, 0.3), 0 1px 3px 1px rgba(60, 64, 67, 0.15);\n",
              "    fill: var(--button-hover-fill-color);\n",
              "  }\n",
              "\n",
              "  .colab-df-quickchart-complete:disabled,\n",
              "  .colab-df-quickchart-complete:disabled:hover {\n",
              "    background-color: var(--disabled-bg-color);\n",
              "    fill: var(--disabled-fill-color);\n",
              "    box-shadow: none;\n",
              "  }\n",
              "\n",
              "  .colab-df-spinner {\n",
              "    border: 2px solid var(--fill-color);\n",
              "    border-color: transparent;\n",
              "    border-bottom-color: var(--fill-color);\n",
              "    animation:\n",
              "      spin 1s steps(1) infinite;\n",
              "  }\n",
              "\n",
              "  @keyframes spin {\n",
              "    0% {\n",
              "      border-color: transparent;\n",
              "      border-bottom-color: var(--fill-color);\n",
              "      border-left-color: var(--fill-color);\n",
              "    }\n",
              "    20% {\n",
              "      border-color: transparent;\n",
              "      border-left-color: var(--fill-color);\n",
              "      border-top-color: var(--fill-color);\n",
              "    }\n",
              "    30% {\n",
              "      border-color: transparent;\n",
              "      border-left-color: var(--fill-color);\n",
              "      border-top-color: var(--fill-color);\n",
              "      border-right-color: var(--fill-color);\n",
              "    }\n",
              "    40% {\n",
              "      border-color: transparent;\n",
              "      border-right-color: var(--fill-color);\n",
              "      border-top-color: var(--fill-color);\n",
              "    }\n",
              "    60% {\n",
              "      border-color: transparent;\n",
              "      border-right-color: var(--fill-color);\n",
              "    }\n",
              "    80% {\n",
              "      border-color: transparent;\n",
              "      border-right-color: var(--fill-color);\n",
              "      border-bottom-color: var(--fill-color);\n",
              "    }\n",
              "    90% {\n",
              "      border-color: transparent;\n",
              "      border-bottom-color: var(--fill-color);\n",
              "    }\n",
              "  }\n",
              "</style>\n",
              "\n",
              "  <script>\n",
              "    async function quickchart(key) {\n",
              "      const quickchartButtonEl =\n",
              "        document.querySelector('#' + key + ' button');\n",
              "      quickchartButtonEl.disabled = true;  // To prevent multiple clicks.\n",
              "      quickchartButtonEl.classList.add('colab-df-spinner');\n",
              "      try {\n",
              "        const charts = await google.colab.kernel.invokeFunction(\n",
              "            'suggestCharts', [key], {});\n",
              "      } catch (error) {\n",
              "        console.error('Error during call to suggestCharts:', error);\n",
              "      }\n",
              "      quickchartButtonEl.classList.remove('colab-df-spinner');\n",
              "      quickchartButtonEl.classList.add('colab-df-quickchart-complete');\n",
              "    }\n",
              "    (() => {\n",
              "      let quickchartButtonEl =\n",
              "        document.querySelector('#df-8d7c3ee3-268b-4acd-9238-c77090a35ec9 button');\n",
              "      quickchartButtonEl.style.display =\n",
              "        google.colab.kernel.accessAllowed ? 'block' : 'none';\n",
              "    })();\n",
              "  </script>\n",
              "</div>\n",
              "\n",
              "    </div>\n",
              "  </div>\n"
            ],
            "application/vnd.google.colaboratory.intrinsic+json": {
              "type": "dataframe",
              "summary": "{\n  \"name\": \"orders\",\n  \"rows\": 9,\n  \"fields\": [\n    {\n      \"column\": \"count\",\n      \"properties\": {\n        \"dtype\": \"date\",\n        \"min\": 9994.0,\n        \"max\": 51290.0,\n        \"num_unique_values\": 2,\n        \"samples\": [\n          9994.0,\n          51290.0\n        ],\n        \"semantic_type\": \"\",\n        \"description\": \"\"\n      }\n    },\n    {\n      \"column\": \"mean\",\n      \"properties\": {\n        \"dtype\": \"date\",\n        \"min\": \"1970-01-01 00:00:00\",\n        \"max\": \"2013-05-15 20:42:42.745174528\",\n        \"num_unique_values\": 9,\n        \"samples\": [\n          28.61098247767596,\n          \"2013-05-11 21:26:49.155781120\"\n        ],\n        \"semantic_type\": \"\",\n        \"description\": \"\"\n      }\n    },\n    {\n      \"column\": \"min\",\n      \"properties\": {\n        \"dtype\": \"date\",\n        \"min\": \"1969-12-31 23:59:59.999993401\",\n        \"max\": \"2011-01-03 00:00:00\",\n        \"num_unique_values\": 8,\n        \"samples\": [\n          \"2011-01-01 00:00:00\",\n          0.0\n        ],\n        \"semantic_type\": \"\",\n        \"description\": \"\"\n      }\n    },\n    {\n      \"column\": \"25%\",\n      \"properties\": {\n        \"dtype\": \"date\",\n        \"min\": \"1970-01-01 00:00:00\",\n        \"max\": \"2012-06-23 00:00:00\",\n        \"num_unique_values\": 8,\n        \"samples\": [\n          \"2012-06-19 00:00:00\",\n          2.0\n        ],\n        \"semantic_type\": \"\",\n        \"description\": \"\"\n      }\n    },\n    {\n      \"column\": \"50%\",\n      \"properties\": {\n        \"dtype\": \"date\",\n        \"min\": \"1970-01-01 00:00:00\",\n        \"max\": \"2013-07-12 00:00:00\",\n        \"num_unique_values\": 9,\n        \"samples\": [\n          9.24,\n          \"2013-07-08 00:00:00\"\n        ],\n        \"semantic_type\": \"\",\n        \"description\": \"\"\n      }\n    },\n    {\n      \"column\": \"75%\",\n      \"properties\": {\n        \"dtype\": \"date\",\n        \"min\": \"1970-01-01 00:00:00\",\n        \"max\": \"2014-05-26 00:00:00\",\n        \"num_unique_values\": 9,\n        \"samples\": [\n          36.81,\n          \"2014-05-22 00:00:00\"\n        ],\n        \"semantic_type\": \"\",\n        \"description\": \"\"\n      }\n    },\n    {\n      \"column\": \"max\",\n      \"properties\": {\n        \"dtype\": \"date\",\n        \"min\": \"1970-01-01 00:00:00\",\n        \"max\": \"2015-01-07 00:00:00\",\n        \"num_unique_values\": 9,\n        \"samples\": [\n          8399.975999999999,\n          \"2014-12-31 00:00:00\"\n        ],\n        \"semantic_type\": \"\",\n        \"description\": \"\"\n      }\n    },\n    {\n      \"column\": \"std\",\n      \"properties\": {\n        \"dtype\": \"date\",\n        \"min\": 0.21227993168586598,\n        \"max\": 32063.69335036448,\n        \"num_unique_values\": 7,\n        \"samples\": [\n          14806.29199023172,\n          32063.69335036448\n        ],\n        \"semantic_type\": \"\",\n        \"description\": \"\"\n      }\n    }\n  ]\n}"
            }
          },
          "metadata": {},
          "execution_count": 52
        }
      ]
    },
    {
      "cell_type": "code",
      "source": [
        "# Handling Missing Values: The column Postal Code has 41296 missing values so I am dropping the column because it is not useable for analysis.\n",
        "orders.drop(columns=['Postal Code'], inplace=True)\n"
      ],
      "metadata": {
        "id": "XiLKz2CiByi0"
      },
      "execution_count": null,
      "outputs": []
    },
    {
      "cell_type": "markdown",
      "source": [
        "After dropping the column all data is ready and well structured so I am saving the file next."
      ],
      "metadata": {
        "id": "rsQuQeI6QJW3"
      }
    },
    {
      "cell_type": "code",
      "source": [
        "# Save the cleaned dataset\n",
        "with pd.ExcelWriter('ECOMMM DATA.xlsx') as writer:\n",
        "    # Write each DataFrame to a separate sheet\n",
        "    orders.to_excel(writer, sheet_name='Orders', index=False)\n",
        "    returns.to_excel(writer, sheet_name='Returns', index=False)\n",
        "    people.to_excel(writer, sheet_name='People', index=False)"
      ],
      "metadata": {
        "id": "-MmahtCXL0vT"
      },
      "execution_count": null,
      "outputs": []
    },
    {
      "cell_type": "markdown",
      "source": [
        "# **Visualizing Using Tableau Public**"
      ],
      "metadata": {
        "id": "VPX1oR6YM07Q"
      }
    },
    {
      "cell_type": "markdown",
      "source": [
        "Tableau Public Link - https://public.tableau.com/app/profile/tanmay.dhar3211/viz/SALESDATAANALYSIS_17159530288020/Dashboard1?publish=yes"
      ],
      "metadata": {
        "id": "BGxVqTDMN-cI"
      }
    },
    {
      "cell_type": "markdown",
      "source": [
        "# **Projict Image**"
      ],
      "metadata": {
        "id": "6PUeNCfxE-po"
      }
    },
    {
      "cell_type": "markdown",
      "source": [
        "![Screenshot (113).png](data:image/png;base64,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)"
      ],
      "metadata": {
        "id": "kRA4LYuSEl14"
      }
    },
    {
      "cell_type": "markdown",
      "source": [
        "# **Conclusion**"
      ],
      "metadata": {
        "id": "FPENp87DFuhY"
      }
    },
    {
      "cell_type": "markdown",
      "source": [
        "In conclusion, this project has provided a comprehensive view of total sales, avarage order value, return rates and profit margin. It gives the graphical view of the sales by the region or market. By the visualization we can clearly identify that **Apple Smart Phone Full Size** is the most selling product. Other visualization can clearify the sales analysis according to the data.Using Tableau, empowers stakeholders with valuable insights to make informed decisions aimed at enhancing sales performance and achieving business objectives. By leveraging these insights, the business can better understand customer behavior, capitalize on market opportunities, and stay ahead of the competition in a dynamic marketplace."
      ],
      "metadata": {
        "id": "4sNI4sMTF4Xk"
      }
    }
  ],
  "metadata": {
    "colab": {
      "provenance": []
    },
    "kernelspec": {
      "display_name": "Python 3",
      "name": "python3"
    }
  },
  "nbformat": 4,
  "nbformat_minor": 0
}